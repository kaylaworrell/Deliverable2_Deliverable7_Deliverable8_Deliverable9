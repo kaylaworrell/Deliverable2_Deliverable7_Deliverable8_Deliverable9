{
  "nbformat": 4,
  "nbformat_minor": 0,
  "metadata": {
    "colab": {
      "provenance": [],
      "authorship_tag": "ABX9TyPULbo50QWeuC2FLqV+tkGu",
      "include_colab_link": true
    },
    "kernelspec": {
      "name": "python3",
      "display_name": "Python 3"
    },
    "language_info": {
      "name": "python"
    }
  },
  "cells": [
    {
      "cell_type": "markdown",
      "metadata": {
        "id": "view-in-github",
        "colab_type": "text"
      },
      "source": [
        "<a href=\"https://colab.research.google.com/github/kaylaworrell/Deliverable2_Conditional_Statements/blob/master/Deliverable8Methods.ipynb\" target=\"_parent\"><img src=\"https://colab.research.google.com/assets/colab-badge.svg\" alt=\"Open In Colab\"/></a>"
      ]
    },
    {
      "cell_type": "code",
      "execution_count": 2,
      "metadata": {
        "colab": {
          "base_uri": "https://localhost:8080/"
        },
        "id": "dv9sagHbadwG",
        "outputId": "d1b9c5b9-7aa7-4562-cf30-c2ba2d7033b6"
      },
      "outputs": [
        {
          "output_type": "stream",
          "name": "stdout",
          "text": [
            "Please enter an integer number between 5 and 15: 16\n",
            "Invalid entry. Please try again.\n",
            "Please enter an integer number between 5 and 15: 5\n",
            "The elements of the array are: 18 10 35 40 16 \n",
            "The sum is: 119\n"
          ]
        }
      ],
      "source": [
        "import random\n",
        "\n",
        "def populate_list(length):\n",
        "    \"\"\"\n",
        "    Populates a list with integers between 10 and 50 randomly generated.\n",
        "    \"\"\"\n",
        "    lst = []\n",
        "    for i in range(length):\n",
        "        lst.append(random.randint(10, 50))\n",
        "    return lst\n",
        "\n",
        "def sum_list(lst):\n",
        "    \"\"\"\n",
        "    Returns the sum of all elements in the list.\n",
        "    \"\"\"\n",
        "    return sum(lst)\n",
        "\n",
        "while True:\n",
        "    user_entry = input(\"Please enter an integer number between 5 and 15: \")\n",
        "    try:\n",
        "        user_entry = int(user_entry)\n",
        "        if user_entry >= 5 and user_entry <= 15:\n",
        "            break\n",
        "        else:\n",
        "            print(\"Invalid entry. Please try again.\")\n",
        "    except ValueError:\n",
        "        print(\"Invalid entry. Please try again.\")\n",
        "\n",
        "random_lst = populate_list(user_entry)\n",
        "\n",
        "print(\"The elements of the array are:\", end=\" \")\n",
        "for num in random_lst:\n",
        "    print(num, end=\" \")\n",
        "\n",
        "total_sum = sum_list(random_lst)\n",
        "\n",
        "print(\"\\nThe sum is:\", total_sum)"
      ]
    }
  ]
}